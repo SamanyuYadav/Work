{
 "cells": [
  {
   "cell_type": "code",
   "execution_count": 1,
   "id": "7c7ca15a-4f0a-4c9b-a2c5-0a41684aa77f",
   "metadata": {},
   "outputs": [],
   "source": [
    "import re\n",
    "from transformers import pipeline"
   ]
  },
  {
   "cell_type": "code",
   "execution_count": 2,
   "id": "e90f57ac-c031-460c-b097-4d0502488ca1",
   "metadata": {},
   "outputs": [],
   "source": [
    "def detect_malicious_prompt(prompt):\n",
    "    # Define all your expected malicious patterns in a message over here\n",
    "    malicious_patterns = [\n",
    "        r\"bypass security\", r\"ignore safety\", r\"override restrictions\",\n",
    "        r\"exploit vulnerability\", r\"jailbreak model\", r\"disable moderation\"\n",
    "    ]\n",
    "    \n",
    "    # Check if any pattern matches\n",
    "    for pattern in malicious_patterns:\n",
    "        if re.search(pattern, prompt, re.IGNORECASE):\n",
    "            return True\n",
    "    return False"
   ]
  },
  {
   "cell_type": "code",
   "execution_count": 9,
   "id": "180adf82-9526-423b-b940-a85f75a43bea",
   "metadata": {},
   "outputs": [
    {
     "name": "stderr",
     "output_type": "stream",
     "text": [
      "Device set to use cpu\n"
     ]
    }
   ],
   "source": [
    "classifier = pipeline(\"zero-shot-classification\", model=\"facebook/bart-large-mnli\")"
   ]
  },
  {
   "cell_type": "code",
   "execution_count": 10,
   "id": "361b3c2c-81b8-4761-8763-f49016a7ef2c",
   "metadata": {},
   "outputs": [],
   "source": [
    "def analyze_prompt(prompt):\n",
    "    \n",
    "    categories = [\"safe\", \"malicious\", \"neutral\"]\n",
    "    result = classifier(prompt, candidate_labels=categories)\n",
    "    return result"
   ]
  },
  {
   "cell_type": "code",
   "execution_count": 11,
   "id": "d8e7d121-81a3-4053-82ab-95b8e0eb0829",
   "metadata": {},
   "outputs": [],
   "source": [
    "def llm_threat_check():\n",
    "    user_input = input(\"Enter a prompt: \")\n",
    "    \n",
    "    if detect_malicious_prompt(user_input):\n",
    "        print(\"⚠️ Potential jailbreak attempt detected! Proceed with caution.\")\n",
    "    else:\n",
    "        analysis = analyze_prompt(user_input)\n",
    "        print(\"Prompt Analysis:\", analysis)"
   ]
  },
  {
   "cell_type": "code",
   "execution_count": 14,
   "id": "74d05099-c36e-4656-a249-572f2405dce3",
   "metadata": {},
   "outputs": [],
   "source": [
    "#llm_threat_check()"
   ]
  },
  {
   "cell_type": "code",
   "execution_count": null,
   "id": "6884f9f9-aca4-4197-a6c5-690d01f37603",
   "metadata": {},
   "outputs": [],
   "source": []
  }
 ],
 "metadata": {
  "kernelspec": {
   "display_name": "Python 3 (ipykernel)",
   "language": "python",
   "name": "python3"
  },
  "language_info": {
   "codemirror_mode": {
    "name": "ipython",
    "version": 3
   },
   "file_extension": ".py",
   "mimetype": "text/x-python",
   "name": "python",
   "nbconvert_exporter": "python",
   "pygments_lexer": "ipython3",
   "version": "3.11.11"
  }
 },
 "nbformat": 4,
 "nbformat_minor": 5
}
