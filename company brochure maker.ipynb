{
 "cells": [
  {
   "cell_type": "code",
   "execution_count": 1,
   "id": "c517a837-8ad7-4b9d-a32c-fc474b09e671",
   "metadata": {},
   "outputs": [],
   "source": [
    "import os\n",
    "import requests\n",
    "from dotenv import load_dotenv\n",
    "from bs4 import BeautifulSoup\n",
    "from IPython.display import Markdown, display, update_display"
   ]
  },
  {
   "cell_type": "code",
   "execution_count": 2,
   "id": "90dca00f-edbf-49ec-8479-95dadb12661e",
   "metadata": {},
   "outputs": [],
   "source": [
    "import ollama"
   ]
  },
  {
   "cell_type": "code",
   "execution_count": 3,
   "id": "120ec736-443c-462e-b92f-fb417a0b6102",
   "metadata": {},
   "outputs": [],
   "source": [
    "class Website:\n",
    "    def __init__(self,url):\n",
    "        self.url = url\n",
    "        self.links = []\n",
    "        self.text=''\n",
    "        self.title = ''\n",
    "        res = requests.get(url)\n",
    "        soup = BeautifulSoup(res.text,'html.parser')\n",
    "        for i in soup.find_all('a'):\n",
    "            try:\n",
    "                self.links.append(i['href'])\n",
    "            except:\n",
    "                pass\n",
    "        try:\n",
    "            self.text+=soup.select('body')[0].get_text()\n",
    "        except:\n",
    "            pass\n",
    "        try:\n",
    "            self.title+=soup.select('title')[0].text\n",
    "        except:\n",
    "            pass\n",
    "    def get_contents(self):\n",
    "        return f\"Webpage Title:\\n{self.title}\\nWebpage Contents:\\n{self.text}\\n\\n\""
   ]
  },
  {
   "cell_type": "code",
   "execution_count": 4,
   "id": "c6b6aecb-800f-423a-81c2-3fe5699e6c07",
   "metadata": {},
   "outputs": [],
   "source": [
    "link_system_prompt = \"You are provided with a list of links found on a webpage. \\\n",
    "You are able to decide which of the links would be most relevant to include in a brochure about the company, \\\n",
    "such as links to an About page, or a Company page, or Careers/Jobs pages. Respond with a comma seperated list of the links and no other text\""
   ]
  },
  {
   "cell_type": "code",
   "execution_count": 5,
   "id": "6e733d90-2f9b-4e80-979a-fdb51ddaf9f5",
   "metadata": {},
   "outputs": [],
   "source": [
    "def get_links_user_prompt(url):\n",
    "    website = Website(url)\n",
    "    user_prompt = f\"Here is the list of links on the website of {website.url} - \"\n",
    "    user_prompt += \"please decide which of these are relevant web links for a brochure about the company, respond with a comma seperated list of the full https URL. \\\n",
    "Do not include Terms of Service, Privacy, email links.\\n\"\n",
    "    user_prompt += \"Links (some might be relative links):\\n\"\n",
    "    user_prompt += \"\\n\".join(website.links)\n",
    "    return user_prompt "
   ]
  },
  {
   "cell_type": "code",
   "execution_count": 6,
   "id": "380424de-b064-425b-aade-1a4d169ff78c",
   "metadata": {},
   "outputs": [],
   "source": [
    "def get_final_links(url):\n",
    "    response = ollama.chat(model='llama3.2',messages=[{\"role\": \"system\", \"content\": link_system_prompt},{\"role\": \"user\", \"content\": get_links_user_prompt(url)}])\n",
    "    return response['message']['content']"
   ]
  },
  {
   "cell_type": "code",
   "execution_count": 7,
   "id": "c7cdbeb4-10ea-4ff4-84da-7e3824b6bab9",
   "metadata": {},
   "outputs": [],
   "source": [
    "def all_details(url):\n",
    "    result = Website(url).get_contents()\n",
    "    links = get_final_links(url).split(',')[1::]\n",
    "    for i in links:\n",
    "        result += '\\n'\n",
    "        result += Website(i).get_contents()\n",
    "    return result"
   ]
  },
  {
   "cell_type": "code",
   "execution_count": 8,
   "id": "b32c2df0-4990-4748-a5f2-8fb29c4e15b3",
   "metadata": {},
   "outputs": [],
   "source": [
    "system_prompt_brochure = \"You are an assistant that analyzes the contents of several relevant pages from a company website \\\n",
    "and creates a short brochure about the company for prospective customers, investors and recruits. Respond in markdown.\\\n",
    "Include details of company culture, customers and careers/jobs if you have the information.\""
   ]
  },
  {
   "cell_type": "code",
   "execution_count": 9,
   "id": "2287167f-c024-48a6-8a95-a6c80330b7b1",
   "metadata": {},
   "outputs": [],
   "source": [
    "def get_brochure_user_prompt(company_name, url):\n",
    "    user_prompt = f\"You are looking at a company called: {company_name}\\n\"\n",
    "    user_prompt += f\"Here are the contents of its landing page and other relevant pages; use this information to build a short brochure of the company in markdown.\\n\"\n",
    "    user_prompt += all_details(url)\n",
    "    user_prompt = user_prompt[:5000] # Truncate if more than 5,000 characters\n",
    "    return user_prompt"
   ]
  },
  {
   "cell_type": "code",
   "execution_count": 10,
   "id": "009de450-3cbe-44f4-953b-716214d1d2e2",
   "metadata": {},
   "outputs": [],
   "source": [
    "def stream_brochure(company_name, url):\n",
    "    response = ollama.chat(\n",
    "        model='llama3.2',\n",
    "        messages=[\n",
    "            {\"role\": \"system\", \"content\": system_prompt_brochure},\n",
    "            {\"role\": \"user\", \"content\": get_brochure_user_prompt(company_name, url)}\n",
    "          ],\n",
    "        stream = True\n",
    "    )\n",
    "    steam = ''\n",
    "    display_handle = display(Markdown(\"\"), display_id=True)\n",
    "    for chunk in response:\n",
    "        steam += chunk['message']['content'] or ''\n",
    "        steam = steam.replace(\"```\",\"\").replace(\"markdown\", \"\")\n",
    "        update_display(Markdown(steam), display_id=display_handle.display_id)"
   ]
  },
  {
   "cell_type": "code",
   "execution_count": null,
   "id": "8a9b5d09-ae4c-4cb1-969a-f17e2e991d02",
   "metadata": {},
   "outputs": [],
   "source": [
    "#stream_brochure(company name here, company url)"
   ]
  }
 ],
 "metadata": {
  "kernelspec": {
   "display_name": "Python 3 (ipykernel)",
   "language": "python",
   "name": "python3"
  },
  "language_info": {
   "codemirror_mode": {
    "name": "ipython",
    "version": 3
   },
   "file_extension": ".py",
   "mimetype": "text/x-python",
   "name": "python",
   "nbconvert_exporter": "python",
   "pygments_lexer": "ipython3",
   "version": "3.11.11"
  }
 },
 "nbformat": 4,
 "nbformat_minor": 5
}
